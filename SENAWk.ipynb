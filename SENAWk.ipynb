{
  "nbformat": 4,
  "nbformat_minor": 0,
  "metadata": {
    "colab": {
      "name": "SENAWk.ipynb",
      "provenance": [],
      "collapsed_sections": []
    },
    "kernelspec": {
      "name": "python3",
      "display_name": "Python 3"
    },
    "language_info": {
      "name": "python"
    }
  },
  "cells": [
    {
      "cell_type": "markdown",
      "metadata": {
        "id": "7jDWwfEb8hxw"
      },
      "source": [
        "\n",
        "\n",
        "#First\n",
        "let's import the packages we are very likely to use.\n",
        "\n"
      ]
    },
    {
      "cell_type": "code",
      "metadata": {
        "id": "GK21YHrApyMh"
      },
      "source": [
        "#Matplotlib is a package used for doing plots. Here i create a function (with help from stack-overflow) to draw networks\n",
        "import matplotlib.pyplot as plt\n",
        "import matplotlib.colors as mcolors\n",
        "#Numpy is a package that allows to do linear algebra routines, call random number generators, and perform mathematical operations.\n",
        "import numpy as np\n",
        "#NetworkX is the package that allows you to import, export and analyze networks in Python (or the main package used)\n",
        "import networkx as nx\n",
        "#Community is an add on package for community detection (see slide 16)\n",
        "#so first, we need to install community detection\n",
        "!pip install community\n",
        "#then we import community\n",
        "import community"
      ],
      "execution_count": null,
      "outputs": []
    },
    {
      "cell_type": "markdown",
      "metadata": {
        "id": "qe7SmV_R8pSu"
      },
      "source": [
        "#Second \n",
        "let's upload the network data, first upload the networks you downloaded from GitHub on google Colaboratory\n",
        "\n",
        "You can do this by clicking on the files icon on the left and then the upload icon.\n",
        "\n",
        "Once your files appear on the right you can then load them into networkx as networks."
      ]
    },
    {
      "cell_type": "code",
      "metadata": {
        "id": "0yp1BpWAzn7p"
      },
      "source": [
        "#note that the delimiter here is a space, you need always to check for the delimiter \n",
        "rivernet = nx.read_edgelist('Bnet.csv', delimiter= ' ') \n",
        "socnet = nx.read_edgelist('Snet.csv', delimiter=' ') \n"
      ],
      "execution_count": null,
      "outputs": []
    },
    {
      "cell_type": "code",
      "metadata": {
        "id": "ZuR9ZqR09TDD"
      },
      "source": [
        "#always good to have a visual inspection of the data, check number of nodes and edges:\n",
        "rn = len(rivernet.nodes())\n",
        "re = len(rivernet.edges())\n",
        "print ('River Network nodes: ' +str(rn) +' edges: '+str(re))\n",
        "\n",
        "sn = len(socnet.nodes())\n",
        "se = len(socnet.edges())\n",
        "print ('Social Network nodes: ' +str(sn) +' edges: '+str(se))"
      ],
      "execution_count": null,
      "outputs": []
    },
    {
      "cell_type": "markdown",
      "metadata": {
        "id": "u9iVt-rVHull"
      },
      "source": [
        "Now we upload the \"where organization work and affect the river network\" file: SBnet.txt. \n",
        "\n",
        "This is a dictionary (specific type of data file in python) so we need to do a few things to load it here, specifically, open the file read the file, and the evaluate its contents"
      ]
    },
    {
      "cell_type": "code",
      "metadata": {
        "id": "zSY9huuC-tkl"
      },
      "source": [
        "\n",
        "import ast #another package that will help with reading the dictionary file\n",
        "file = open(\"SBnet.txt\", \"r\")\n",
        "contents = file.read()\n",
        "srnet = ast.literal_eval(contents)\n",
        "file.close()"
      ],
      "execution_count": null,
      "outputs": []
    },
    {
      "cell_type": "markdown",
      "metadata": {
        "id": "TZSeYI08H-fw"
      },
      "source": [
        "srnet will contain a dictionary of which organization work on which part of the river network.\n",
        "\n",
        "So for example, node 0 affects segement 1 of the river network, \n",
        "while both nodes 24 and 27 affect segment 25 of the river network\n"
      ]
    },
    {
      "cell_type": "code",
      "metadata": {
        "id": "lgPSDf6IIAZp"
      },
      "source": [
        "srnet"
      ],
      "execution_count": null,
      "outputs": []
    },
    {
      "cell_type": "markdown",
      "metadata": {
        "id": "nJA_RcTYHsup"
      },
      "source": [
        "To analyze the social-ecological network, you can start with analyzing them separetely. \n",
        "\n",
        "Start with the Social/Organization collaborative network"
      ]
    },
    {
      "cell_type": "code",
      "metadata": {
        "id": "HAJ8aSjAIWcD"
      },
      "source": [
        "#Decide for specific metrics and analyze the network (socnet), for example, calculate simple centrality metrics such as degree and betweenness\n",
        "#Write your code in this box\n"
      ],
      "execution_count": null,
      "outputs": []
    },
    {
      "cell_type": "markdown",
      "metadata": {
        "id": "qbZhS_uCIm2W"
      },
      "source": [
        "You can also analyze the river network separately. For simplicity we assume that while water flows both ways, what happens downstream can also affect upstream and vice versa (i.e. although a bit unrealistic, for sake of simplicity here we use an undirected network).\n"
      ]
    },
    {
      "cell_type": "code",
      "metadata": {
        "id": "qNmVMq0lI0PP"
      },
      "source": [
        "#Decide for specific metrics and analyze the network (rivernet)\n",
        "#Write your code in this box"
      ],
      "execution_count": null,
      "outputs": []
    },
    {
      "cell_type": "markdown",
      "metadata": {
        "id": "33FiiNwiI3TR"
      },
      "source": [
        "Now, can you think of how to actually perform a social-ecological network analysis? How can you use the information in srnet to devise a SEN, and how can you then analyze the SEN?"
      ]
    },
    {
      "cell_type": "code",
      "metadata": {
        "id": "zJJ80AVoJEas"
      },
      "source": [
        "#Brainstorm potential analysis and how to actually connect the two networks (it is not easy)\n",
        "#Write your code in this box"
      ],
      "execution_count": null,
      "outputs": []
    }
  ]
}
