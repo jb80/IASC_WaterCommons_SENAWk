{
  "nbformat": 4,
  "nbformat_minor": 0,
  "metadata": {
    "colab": {
      "name": "IASC_Water_Gov_SENA.ipynb",
      "provenance": [],
      "collapsed_sections": []
    },
    "kernelspec": {
      "name": "python3",
      "display_name": "Python 3"
    },
    "language_info": {
      "name": "python"
    }
  },
  "cells": [
    {
      "cell_type": "markdown",
      "metadata": {
        "id": "nYi2efh73IxM"
      },
      "source": [
        ""
      ]
    },
    {
      "cell_type": "markdown",
      "metadata": {
        "id": "T8RD6GG83LFi"
      },
      "source": [
        "#Script used to analyze and generate networks for the IASC Water Commons Social-Ecological Network Workshop"
      ]
    },
    {
      "cell_type": "markdown",
      "metadata": {
        "id": "6UYim9xp3T6K"
      },
      "source": [
        "Here i will use Python, an open source, high level programming language that is simple to write and read. It is similar to R (and one can actually call R within python, and use R routines and libraries)"
      ]
    },
    {
      "cell_type": "markdown",
      "metadata": {
        "id": "VgKQ_ELA4DPL"
      },
      "source": [
        "#Networks Used for Slides 13,15,16\n"
      ]
    },
    {
      "cell_type": "markdown",
      "metadata": {
        "id": "Ihk33A_596cY"
      },
      "source": [
        "First, python is a \"flexible\" language, like R we need to tell it what libraries/packages we want to use (so that it does not load them all to stay unused and use up your memory). So below, we \"import\" only the packages we are going to"
      ]
    },
    {
      "cell_type": "code",
      "metadata": {
        "id": "tU8Ujcck29IR"
      },
      "source": [
        "#Matplotlib is a package used for doing plots. Here i create a function (with help from stack-overflow) to draw networks\n",
        "import matplotlib.pyplot as plt\n",
        "import matplotlib.colors as mcolors\n",
        "#Numpy is a package that allows to do linear algebra routines, call random number generators, and perform mathematical operations.\n",
        "import numpy as np\n",
        "#NetworkX is the package that allows you to import, export and analyze networks in Python (or the main package used)\n",
        "import networkx as nx\n",
        "#Community is an add on package for community detection (see slide 16)\n",
        "#so first, we need to install community detection\n",
        "!pip install community\n",
        "#then we import community\n",
        "import community"
      ],
      "execution_count": null,
      "outputs": []
    },
    {
      "cell_type": "markdown",
      "metadata": {
        "id": "804NOoLXAT--"
      },
      "source": [
        "Imported the packages, now, i am going to write a couple of user written functions to draw the networks. Functions were found on stackoverflow (great resources for all things python and not only)\n"
      ]
    },
    {
      "cell_type": "code",
      "metadata": {
        "id": "jy205HB5ARfX"
      },
      "source": [
        "#here i define colors that i want to use\n",
        "colm = plt.get_cmap('coolwarm') #used for continous mapping of colors to network characterstics \n",
        "colmjet = plt.get_cmap('jet',10) #used for discrete mapping of colors to network characteristics"
      ],
      "execution_count": null,
      "outputs": []
    },
    {
      "cell_type": "code",
      "metadata": {
        "id": "oziWOFFQ-hQr"
      },
      "source": [
        "\n",
        "#define a personalized function to draw networks with colors reflecting nodal characteristics (i.e. degree centrality, betweenness, clustering etc)\n",
        "#This function is used for the figures in slides 13 and 14\n",
        "#original code modifiedhere: https://aksakalli.github.io/2017/07/17/network-centrality-measures-and-their-visualization.html\n",
        "def draw(G, pos, measures, measure_name):\n",
        "    nodes = nx.draw_networkx_nodes(G, pos, node_size=250, cmap=colm, \n",
        "                                   node_color=list(measures.values()),\n",
        "                                   nodelist=measures.keys())\n",
        "    edges = nx.draw_networkx_edges(G, pos)\n",
        "\n",
        "    plt.title(measure_name)\n",
        "    plt.colorbar(nodes)\n",
        "    plt.axis('off')\n",
        "    plt.show()\n",
        "\n"
      ],
      "execution_count": null,
      "outputs": []
    },
    {
      "cell_type": "code",
      "metadata": {
        "id": "EYXO7IruAWzF"
      },
      "source": [
        "#define a function to highlight different \"communities\" in networks. This function is used to position the nodes in Slide 16\n",
        "def community_layout(g, partition):\n",
        "    \"\"\"\n",
        "    Compute the layout for a modular graph.\n",
        "    Arguments:\n",
        "    ----------\n",
        "    g -- networkx.Graph or networkx.DiGraph instance\n",
        "        graph to plot\n",
        "    partition -- dict mapping int node -> int community\n",
        "        graph partitions\n",
        "    Returns:\n",
        "    --------\n",
        "    pos -- dict mapping int node -> (float x, float y)\n",
        "        node positions\n",
        "    \"\"\"\n",
        "    pos_communities = _position_communities(g, partition, scale=3.)\n",
        "    pos_nodes = _position_nodes(g, partition, scale=1.)\n",
        "    # combine positions\n",
        "    pos = dict()\n",
        "    for node in g.nodes():\n",
        "        pos[node] = pos_communities[node] + pos_nodes[node]\n",
        "    return pos\n",
        "def _position_communities(g, partition, **kwargs):\n",
        "    # create a weighted graph, in which each node corresponds to a community,\n",
        "    # and each edge weight to the number of edges between communities\n",
        "    between_community_edges = _find_between_community_edges(g, partition)\n",
        "    communities = set(partition.values())\n",
        "    hypergraph = nx.DiGraph()\n",
        "    hypergraph.add_nodes_from(communities)\n",
        "    for (ci, cj), edges in between_community_edges.items():\n",
        "        hypergraph.add_edge(ci, cj, weight=len(edges))\n",
        "    # find layout for communities\n",
        "    pos_communities = nx.spring_layout(hypergraph, **kwargs)\n",
        "    # set node positions to position of community\n",
        "    pos = dict()\n",
        "    for node, comt in partition.items():\n",
        "        pos[node] = pos_communities[comt]\n",
        "    return pos\n",
        "\n",
        "def _find_between_community_edges(g, partition):\n",
        "    edges = dict()\n",
        "    for (ni, nj) in g.edges():\n",
        "        ci = partition[ni]\n",
        "        cj = partition[nj]\n",
        "        if ci != cj:\n",
        "            try:\n",
        "                edges[(ci, cj)] += [(ni, nj)]\n",
        "            except KeyError:\n",
        "                edges[(ci, cj)] = [(ni, nj)]\n",
        "    return edges\n",
        "def _position_nodes(g, partition, **kwargs):\n",
        "    \"\"\"\n",
        "    Positions nodes within communities.\n",
        "    \"\"\"\n",
        "    communities = dict()\n",
        "    for node, comt in partition.items():\n",
        "        try:\n",
        "            communities[comt] += [node]\n",
        "        except KeyError:\n",
        "            communities[comt] = [node]\n",
        "    pos = dict()\n",
        "    for ci, nodes in communities.items():\n",
        "        subgraph = g.subgraph(nodes)\n",
        "        pos_subgraph = nx.spring_layout(subgraph, **kwargs)\n",
        "        pos.update(pos_subgraph)\n",
        "    return pos"
      ],
      "execution_count": null,
      "outputs": []
    },
    {
      "cell_type": "markdown",
      "metadata": {
        "id": "ujE5jGmyA1CD"
      },
      "source": [
        "#Generating and Analyzing a network"
      ]
    },
    {
      "cell_type": "code",
      "metadata": {
        "id": "DEIMSEY4AxV_"
      },
      "source": [
        "#First we generate a network, networkX offers multiple network generators, here we generate a scale free network\n",
        "#Remember, nx stands for networkx, so we are actually asking: \n",
        "#Hey Python, get NetworkX and ask NetworkX to generate a network following the extended barabasi albert graph\n",
        "net = nx.extended_barabasi_albert_graph(50, 3, 0.3, 0.1, seed=None)\n",
        "#Hey Python, get NetworkX and ask NetworkX to generate a network following watts and strogatz small world graph\n",
        "net2 = nx.watts_strogatz_graph(50, 8, 0.1)\n",
        "print('Scale Free Network')\n",
        "print(len(net.nodes()))\n",
        "print(len(net.edges()))\n",
        "print('Small World Network')\n",
        "print(len(net2.nodes()))\n",
        "print(len(net2.edges()))\n"
      ],
      "execution_count": null,
      "outputs": []
    },
    {
      "cell_type": "markdown",
      "metadata": {
        "id": "tXxaCBDBCHXr"
      },
      "source": [
        "Once generated, now we can analyze the networks, note that both have 50 nodes... so they are of the same \"size\" but...they may differ and those differences are important as they affect processes unfolding on the network themselves."
      ]
    },
    {
      "cell_type": "code",
      "metadata": {
        "id": "SZaGCa1VCTYN"
      },
      "source": [
        "#First lets calcualte some of the usual suspects: Degree centrality, betweenness centarlity and clustering.\n",
        "#Note that you can also use the average betweenness function within networkx, \n",
        "#here i use numpy to calculate the mean of the values returned by the nodal betweenness centrality scores. \n",
        "\n",
        "d1 = nx.degree(net)\n",
        "d2 = dict(d1)\n",
        "d3 = list(d2.values())\n",
        "badeg = np.mean(d3)\n",
        "babet = np.mean(list(nx.betweenness_centrality(net).values()))\n",
        "baclus = np.mean(list(nx.clustering(net).values()))\n",
        "basp = nx.average_shortest_path_length(net)\n",
        "\n",
        "d1 = nx.degree(net2)\n",
        "d2 = dict(d1)\n",
        "d3 = list(d2.values())\n",
        "swdeg = np.mean(d3)\n",
        "swbet = np.mean(list(nx.betweenness_centrality(net2).values()))\n",
        "swclus = np.mean(list(nx.clustering(net2).values()))\n",
        "swsp = nx.average_shortest_path_length(net2)\n",
        "\n",
        "#Let's print some results\n",
        "print('Scale Free Network: ' + 'Avg Deg = '+str(badeg)+'; Avg Bet = '+str(babet)+'; Avg Clus = '+str(baclus)+'; Avg Sh Path Length = '+str(basp))\n",
        "\n",
        "print('Small World Network: ' + 'Avg Deg = '+str(swdeg)+'; Avg Bet = '+str(swbet)+'; Avg Clus = '+str(swclus)+'; Avg Sh Path Length = '+str(swsp))\n",
        "\n"
      ],
      "execution_count": null,
      "outputs": []
    },
    {
      "cell_type": "code",
      "metadata": {
        "id": "vUATHiIqEUHe"
      },
      "source": [
        "#Let's see a few networks... using the draw function that i defined at the beginning we will be plotting the networks \n",
        "#with the same positions, note seed = 550 to make sure that i will have those positions everytime i rerun this\n",
        "#same script was use to generate the figures in slide 13.\n",
        "pos = nx.spring_layout(net, seed=550)\n",
        "pos2 = nx.spring_layout(net2, seed=550)\n",
        "\n",
        "draw(net, pos, nx.degree_centrality(net), 'BA Degree Centrality')\n",
        "draw(net2, pos2, nx.degree_centrality(net2), 'SW Degree Centrality')\n",
        "\n",
        "draw(net, pos, nx.eigenvector_centrality(net), 'BA Eigenvector Centrality')\n",
        "draw(net2, pos2, nx.eigenvector_centrality(net2), 'SW Eigenvector Centrality')\n",
        "\n",
        "draw(net, pos, nx.betweenness_centrality(net), 'BA Betweenness Centrality')\n",
        "draw(net2, pos2, nx.betweenness_centrality(net2), 'SW Betweenness Centrality')\n",
        "\n",
        "draw(net, pos, nx.clustering(net), 'BA Clustering Coefficient')\n",
        "draw(net2, pos2, nx.clustering(net2), 'SW Clustering Coefficient')\n",
        "\n"
      ],
      "execution_count": null,
      "outputs": []
    },
    {
      "cell_type": "code",
      "metadata": {
        "id": "nFpDx1yME1ut"
      },
      "source": [
        "#Now, let's check the distributoin of those values...\n",
        "#visually here (similar figures as in slide 15)\n",
        "\n",
        "\n",
        "#Lets have them all in one figure:\n",
        "fig, ((ax1, ax2, ax3),(ax4, ax5, ax6)) = plt.subplots(2,3, sharey=False, sharex=False, figsize=(20,10)) \n",
        "\n",
        "ax1.hist(dict(nx.degree(net)).values(), bins=10, color='grey', edgecolor='k', alpha=0.65)\n",
        "ax1.axvline(badeg, color='k', linestyle='dashed', linewidth=1)\n",
        "ax1.set_title('Degree Distribution')\n",
        "ax2.hist(nx.clustering(net).values(), bins=10, color='b', edgecolor='k', alpha=0.4)\n",
        "ax2.axvline(baclus, color='k', linestyle='dashed', linewidth=1)\n",
        "ax2.set_title('Clustering Distribution')\n",
        "ax3.hist(nx.betweenness_centrality(net).values(), bins=10, color='r', edgecolor='k', alpha=0.4)\n",
        "ax3.axvline(babet, color='k', linestyle='dashed', linewidth=1)\n",
        "ax3.set_title('Betweenness Distribution.pdf')\n",
        "ax4.hist(dict(nx.degree(net2)).values(), bins=10, color='grey', edgecolor='k', alpha=0.65)\n",
        "ax4.axvline(swdeg, color='k', linestyle='dashed', linewidth=1)\n",
        "ax5.hist(nx.clustering(net2).values(), bins=10, color='b', edgecolor='k', alpha=0.4)\n",
        "ax5.axvline(swclus, color='k', linestyle='dashed', linewidth=1)\n",
        "ax6.hist(nx.betweenness_centrality(net2).values(), bins=10, color='r', edgecolor='k', alpha=0.4)\n",
        "ax6.axvline(swbet, color='k', linestyle='dashed', linewidth=1)\n",
        "fig.show()\n"
      ],
      "execution_count": null,
      "outputs": []
    },
    {
      "cell_type": "code",
      "metadata": {
        "id": "iDipOAHPj9c9"
      },
      "source": [
        "#community and modularity\n",
        "#change colormap from coolwarm to jet with first 5 colors in draw, for easyness we report again the draw function note the change after cmap.\n",
        "def draw(G, pos, measures, measure_name):\n",
        "    nodes = nx.draw_networkx_nodes(G, pos, node_size=250, cmap=colmjet, \n",
        "                                   node_color=list(measures.values()),\n",
        "                                   nodelist=measures.keys())\n",
        "    edges = nx.draw_networkx_edges(G, pos)\n",
        "\n",
        "    plt.title(measure_name)\n",
        "    plt.axis('off')\n",
        "    plt.show()\n",
        "\n",
        "com = community.best_partition(net)\n",
        "mod = community.modularity(com, net)\n",
        "pos = nx.spring_layout(net, seed = 550)\n",
        "print('Modularity Score for BA Network: ' + str(mod))\n",
        "draw(net, pos, com, 'BA Communities')\n",
        "\n",
        "com2 = community.best_partition(net2)\n",
        "mod2 = community.modularity(com2, net2)\n",
        "pos2 = nx.spring_layout(net2, seed = 550)\n",
        "print('Modularity Score for SW Network: ' + str(mod))\n",
        "draw(net2, pos2, com2, 'SW Communities')"
      ],
      "execution_count": null,
      "outputs": []
    },
    {
      "cell_type": "code",
      "metadata": {
        "id": "MQtZbVDNnGhe"
      },
      "source": [
        "#Now let's draw the networks highlighting the communities\n",
        "#first the BA network\n",
        "print('BA Network and Communities')\n",
        "pos = community_layout(net, com)\n",
        "nx.draw(net, pos, node_color=list(com.values()))\n",
        "\n"
      ],
      "execution_count": null,
      "outputs": []
    },
    {
      "cell_type": "markdown",
      "metadata": {
        "id": "S2Mmv9uNnGNV"
      },
      "source": [
        ""
      ]
    },
    {
      "cell_type": "code",
      "metadata": {
        "id": "iAKx2F3wneq2"
      },
      "source": [
        "#now the SW network\n",
        "print('SW Network and Communities')\n",
        "pos2 = community_layout(net2, com2)\n",
        "nx.draw(net2, pos2, node_color=list(com2.values()))"
      ],
      "execution_count": null,
      "outputs": []
    }
  ]
}